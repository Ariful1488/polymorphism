{
 "cells": [
  {
   "cell_type": "markdown",
   "metadata": {},
   "source": [
    "# Waht is polymorphism?\n",
    "'''\n",
    "Answers:\n",
    "As the word suggests, ‘poly’ means ‘many’ and ‘morph’ points at ‘forms’; thus, polymorphism as a whole would mean \n",
    "‘a property of having many forms.’\n",
    "            '''"
   ]
  },
  {
   "cell_type": "code",
   "execution_count": 1,
   "metadata": {},
   "outputs": [
    {
     "name": "stdout",
     "output_type": "stream",
     "text": [
      "10\n",
      "55\n",
      "5\n"
     ]
    }
   ],
   "source": [
    "#we can take exaple as \n",
    "print(5+5)\n",
    "print('5'+'5')\n",
    "print(len('Akash'))"
   ]
  },
  {
   "cell_type": "code",
   "execution_count": null,
   "metadata": {},
   "outputs": [],
   "source": [
    "'''\n",
    "Same print function, first function perform addition between two numeric value, but secont print fuction added between \n",
    "two string value. Thus according to situation print fuction is doing different thing that is called polymorphism\n",
    "        '''"
   ]
  },
  {
   "cell_type": "markdown",
   "metadata": {},
   "source": [
    "# '''\n",
    "There are two types of polymorphism \n",
    "1. Overloading\n",
    "2. Overriding\n",
    "        '''"
   ]
  },
  {
   "cell_type": "markdown",
   "metadata": {},
   "source": [
    "# Overloading polymorphism"
   ]
  },
  {
   "cell_type": "markdown",
   "metadata": {},
   "source": [
    "# '''\n",
    "When ever class contain more methods by same name with different parameters \n",
    "called overloading\n",
    "            '''\n"
   ]
  },
  {
   "cell_type": "code",
   "execution_count": 11,
   "metadata": {},
   "outputs": [
    {
     "name": "stdout",
     "output_type": "stream",
     "text": [
      "Welcome  \n"
     ]
    }
   ],
   "source": [
    "class polymorphism:\n",
    "    \n",
    "    def show(self):\n",
    "        print('WelCome')\n",
    "    \n",
    "    def show(self, first_name=''):\n",
    "        print('Welcome',first_name)\n",
    "    \n",
    "    def show(self, first_name='',last_name=''):\n",
    "        print('Welcome',first_name,last_name)\n",
    "obj=polymorphism()\n",
    "#When I will not pass any parameter through show function, it will print first show finction \n",
    "obj.show()"
   ]
  },
  {
   "cell_type": "code",
   "execution_count": 13,
   "metadata": {},
   "outputs": [
    {
     "name": "stdout",
     "output_type": "stream",
     "text": [
      "Welcome G M ARIFUL \n"
     ]
    }
   ],
   "source": [
    "class polymorphism:\n",
    "    \n",
    "    def show(self):\n",
    "        print('WelCome')\n",
    "    \n",
    "    def show(self, first_name=''):\n",
    "        print('Welcome',first_name)\n",
    "    \n",
    "    def show(self, first_name='',last_name=''):\n",
    "        print('Welcome',first_name,last_name)\n",
    "obj=polymorphism()\n",
    "#If we pass only one parameter, it will print second show function\n",
    "obj.show('G M ARIFUL')"
   ]
  },
  {
   "cell_type": "code",
   "execution_count": 14,
   "metadata": {},
   "outputs": [
    {
     "name": "stdout",
     "output_type": "stream",
     "text": [
      "Welcome G M ARIFUL ISLAM\n"
     ]
    }
   ],
   "source": [
    "class polymorphism:\n",
    "    \n",
    "    def show(self):\n",
    "        print('WelCome')\n",
    "    \n",
    "    def show(self, first_name=''):\n",
    "        print('Welcome',first_name)\n",
    "    \n",
    "    def show(self, first_name='',last_name=''):\n",
    "        print('Welcome',first_name,last_name)\n",
    "obj=polymorphism()\n",
    "#If we pass only two parameter, it will print third show function\n",
    "obj.show('G M ARIFUL','ISLAM')"
   ]
  },
  {
   "cell_type": "code",
   "execution_count": 22,
   "metadata": {},
   "outputs": [
    {
     "name": "stdout",
     "output_type": "stream",
     "text": [
      "Welcome  \n",
      "Welcome Rocky Arif\n"
     ]
    }
   ],
   "source": [
    "# we can skip the same fuction name gain & again\n",
    "class poli:\n",
    "    def parameters(self,first_name='',last_name=''):\n",
    "        print('Welcome',first_name,last_name)\n",
    "obj_poli= poli()\n",
    "obj_poli.parameters()\n",
    "obj_poli.parameters('Rocky','Arif')\n",
    "#obj_poli.parameters()\n",
    "        "
   ]
  },
  {
   "cell_type": "markdown",
   "metadata": {},
   "source": [
    "# OverRiding polymorphism"
   ]
  },
  {
   "cell_type": "code",
   "execution_count": null,
   "metadata": {},
   "outputs": [],
   "source": [
    "# Waht is overriding polimorphism?\n",
    "'''\n",
    "smae fuction name and same properties can be suppressed by by overriding.\n",
    "---> class will be different\n",
    "---> class will be inheritence\n",
    "---> same fuction\n",
    "            '''"
   ]
  },
  {
   "cell_type": "code",
   "execution_count": 23,
   "metadata": {},
   "outputs": [
    {
     "name": "stdout",
     "output_type": "stream",
     "text": [
      "This is child class\n"
     ]
    }
   ],
   "source": [
    "class A:\n",
    "    def new(self):\n",
    "        print('This is parent class')\n",
    "class B(A):\n",
    "    def new(self):\n",
    "        print('This is child class.')\n",
    "#Crating object according to class\n",
    "ob= B()\n",
    "ob.new()"
   ]
  },
  {
   "cell_type": "code",
   "execution_count": 24,
   "metadata": {},
   "outputs": [
    {
     "data": {
      "text/plain": [
       "'\\nThough there was a chance to print class but because of object type same class \\nstatement has been printed,and it is called Overriding \\n            '"
      ]
     },
     "execution_count": 24,
     "metadata": {},
     "output_type": "execute_result"
    }
   ],
   "source": [
    "'''\n",
    "Though there was a chance to print class but because of object type same class \n",
    "statement has been printed,and it is called Overriding \n",
    "            '''"
   ]
  },
  {
   "cell_type": "code",
   "execution_count": null,
   "metadata": {},
   "outputs": [],
   "source": []
  }
 ],
 "metadata": {
  "kernelspec": {
   "display_name": "Python 3",
   "language": "python",
   "name": "python3"
  },
  "language_info": {
   "codemirror_mode": {
    "name": "ipython",
    "version": 3
   },
   "file_extension": ".py",
   "mimetype": "text/x-python",
   "name": "python",
   "nbconvert_exporter": "python",
   "pygments_lexer": "ipython3",
   "version": "3.8.5"
  }
 },
 "nbformat": 4,
 "nbformat_minor": 4
}
